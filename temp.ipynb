{
 "cells": [
  {
   "cell_type": "code",
   "execution_count": 10,
   "metadata": {},
   "outputs": [],
   "source": [
    "### Fibonacci \n",
    "\n",
    "### Naive Way\n",
    "def fibonacci(n):\n",
    "    if n <= 1:\n",
    "        return n\n",
    "    else:\n",
    "        return fabinacci(n-1) + fabinacci(n-2)\n",
    "    \n",
    "### Better way\n",
    "def fibonacci_2(n):\n",
    "    l = [0, 1]\n",
    "    if n >= 2:\n",
    "        for i in range(2, n+1):\n",
    "            l.append(l[i-1] + l[i-2])\n",
    "    return l[n]\n",
    "\n",
    "### Greatest Commmon Divisor\n",
    "\n",
    "### Better Way, Euclidean Algorithm\n",
    "# If a = a' + bq, then GCD(a, b) = GCD(a', b)\n",
    "def gcd(a, b):\n",
    "    if a >= b:\n",
    "        s = b\n",
    "        l = a\n",
    "    else:\n",
    "        s = a\n",
    "        l = b\n",
    "    if s == 0:\n",
    "        return l\n",
    "    else:\n",
    "        return gcd(l%s, s)"
   ]
  },
  {
   "cell_type": "markdown",
   "metadata": {},
   "source": [
    "### Big-O  \n",
    "* $\\log n$, $\\sqrt{n}$, $n$, $n\\log n$, $n^3$, $2^n$\n",
    "* $O$: $\\preceq$ no faster, $o$: $\\prec$ slower, $\\Omega$: $\\succeq$ no slower, $\\Theta$: grow at equal rate"
   ]
  },
  {
   "cell_type": "code",
   "execution_count": null,
   "metadata": {},
   "outputs": [],
   "source": []
  }
 ],
 "metadata": {
  "kernelspec": {
   "display_name": "Python 3.7.3 64-bit ('base': venv)",
   "language": "python",
   "name": "python37364bitbasevenv3678d109edbf4dce9d29bfef03186670"
  },
  "language_info": {
   "codemirror_mode": {
    "name": "ipython",
    "version": 3
   },
   "file_extension": ".py",
   "mimetype": "text/x-python",
   "name": "python",
   "nbconvert_exporter": "python",
   "pygments_lexer": "ipython3",
   "version": "3.7.3"
  },
  "toc-autonumbering": false,
  "toc-showcode": true,
  "toc-showmarkdowntxt": false,
  "toc-showtags": false
 },
 "nbformat": 4,
 "nbformat_minor": 4
}
